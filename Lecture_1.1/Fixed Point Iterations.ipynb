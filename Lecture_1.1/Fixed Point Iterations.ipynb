{
 "cells": [
  {
   "cell_type": "markdown",
   "metadata": {},
   "source": [
    "Let's look at a very simple fixed point iteration to solve $x^2=c$, $c\\geq 0$."
   ]
  },
  {
   "cell_type": "code",
   "execution_count": 1,
   "metadata": {
    "collapsed": true
   },
   "outputs": [],
   "source": [
    "#Finding the roots of x^2=c, c>=0  by fixed point iteration\n",
    "#version 1  g(x)=x^2+x-c\n",
    "\n",
    "def fpi_1(x=0,c=0,tol=1E-8,iter=0):\n",
    "    from math import fabs\n",
    "\n",
    "    iter+=1\n",
    "    temp=x**2+x-c  #iteration update\n",
    "    print 'iteration',iter,' Value:',repr(temp)  #did I find a \"root\"\n",
    "    if fabs(temp-x) < tol or iter >= 20:\n",
    "        return temp\n",
    "    else:\n",
    "        return fpi_1(temp,c,tol,iter) #recursively call FPI_1 again"
   ]
  },
  {
   "cell_type": "markdown",
   "metadata": {},
   "source": [
    "Let's trying running the code for $c=1$. It has two roots, $\\pm 1$."
   ]
  },
  {
   "cell_type": "code",
   "execution_count": 6,
   "metadata": {
    "collapsed": false
   },
   "outputs": [
    {
     "name": "stdout",
     "output_type": "stream",
     "text": [
      "iteration 1  Value: -0.6875\n",
      "iteration 2  Value: -0.71484375\n",
      "iteration 3  Value: -0.7038421630859375\n",
      "iteration 4  Value: -0.7084483725484461\n",
      "iteration 5  Value: -0.7065492759819042\n",
      "iteration 6  Value: -0.7073373965913512\n",
      "iteration 7  Value: -0.7070112039747207\n",
      "iteration 8  Value: -0.7071463614289366\n",
      "iteration 9  Value: -0.7070903849467524\n",
      "iteration 10  Value: -0.7071135724626059\n",
      "iteration 11  Value: -0.7071039681017769\n",
      "iteration 12  Value: -0.7071079463964982\n",
      "iteration 13  Value: -0.7071062985394252\n",
      "iteration 14  Value: -0.7071069811052985\n",
      "iteration 15  Value: -0.7071066983774495\n",
      "iteration 16  Value: -0.7071068154871921\n",
      "iteration 17  Value: -0.7071067669787542\n",
      "iteration 18  Value: -0.707106787071608\n",
      "iteration 19  Value: -0.7071067787488756\n"
     ]
    },
    {
     "data": {
      "text/plain": [
       "-0.7071067787488756"
      ]
     },
     "execution_count": 6,
     "metadata": {},
     "output_type": "execute_result"
    }
   ],
   "source": [
    "fpi_1(-.75,c=.5)\n"
   ]
  },
  {
   "cell_type": "markdown",
   "metadata": {},
   "source": [
    "Let's look at another fixed-point iteration for finding the same roots.  It's derived from Newton's Method, which we will cover later this week.\n",
    "Here the update is $$ x_{n+1}=x_n - \\frac{f(x_n)}{f^\\prime(x_n)} $$.\n"
   ]
  },
  {
   "cell_type": "code",
   "execution_count": 7,
   "metadata": {
    "collapsed": true
   },
   "outputs": [],
   "source": [
    "def fpi_2(x=0,c=0,tol=1E-8,iter=0):\n",
    "    from math import fabs\n",
    "\n",
    "    iter+=1\n",
    "    temp=x-(x**2-c)/2*x\n",
    "    print 'iteration',iter,' Value:',repr(temp)\n",
    "    if fabs(temp-x) < tol or iter >= 20:\n",
    "        return temp\n",
    "    else:\n",
    "        return fpi_2(temp,c,tol,iter)"
   ]
  },
  {
   "cell_type": "code",
   "execution_count": 14,
   "metadata": {
    "collapsed": false
   },
   "outputs": [
    {
     "name": "stdout",
     "output_type": "stream",
     "text": [
      "iteration 1  Value: 0.0099995\n",
      "iteration 2  Value: 0.00999900007499625\n",
      "iteration 3  Value: 0.009998500224970003\n",
      "iteration 4  Value: 0.00999800044990252\n",
      "iteration 5  Value: 0.009997500749775066\n",
      "iteration 6  Value: 0.009997001124568914\n",
      "iteration 7  Value: 0.009996501574265343\n",
      "iteration 8  Value: 0.00999600209884564\n",
      "iteration 9  Value: 0.009995502698291097\n",
      "iteration 10  Value: 0.009995003372583012\n",
      "iteration 11  Value: 0.009994504121702693\n",
      "iteration 12  Value: 0.00999400494563145\n",
      "iteration 13  Value: 0.009993505844350603\n",
      "iteration 14  Value: 0.009993006817841477\n",
      "iteration 15  Value: 0.009992507866085402\n",
      "iteration 16  Value: 0.009992008989063718\n",
      "iteration 17  Value: 0.00999151018675777\n",
      "iteration 18  Value: 0.009991011459148907\n",
      "iteration 19  Value: 0.00999051280621849\n",
      "iteration 20  Value: 0.009990014227947881\n"
     ]
    },
    {
     "data": {
      "text/plain": [
       "0.009990014227947881"
      ]
     },
     "execution_count": 14,
     "metadata": {},
     "output_type": "execute_result"
    }
   ],
   "source": [
    "fpi_2(.01,c=0.0)"
   ]
  },
  {
   "cell_type": "code",
   "execution_count": null,
   "metadata": {
    "collapsed": false
   },
   "outputs": [],
   "source": [
    "fpi_2(4.0,c=1.0)"
   ]
  },
  {
   "cell_type": "code",
   "execution_count": null,
   "metadata": {
    "collapsed": true
   },
   "outputs": [],
   "source": []
  }
 ],
 "metadata": {
  "anaconda-cloud": {},
  "kernelspec": {
   "display_name": "Python [Root]",
   "language": "python",
   "name": "Python [Root]"
  },
  "language_info": {
   "codemirror_mode": {
    "name": "ipython",
    "version": 2
   },
   "file_extension": ".py",
   "mimetype": "text/x-python",
   "name": "python",
   "nbconvert_exporter": "python",
   "pygments_lexer": "ipython2",
   "version": "2.7.12"
  }
 },
 "nbformat": 4,
 "nbformat_minor": 0
}
